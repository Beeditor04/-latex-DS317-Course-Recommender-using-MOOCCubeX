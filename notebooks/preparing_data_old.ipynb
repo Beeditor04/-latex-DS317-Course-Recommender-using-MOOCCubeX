{
 "cells": [
  {
   "cell_type": "code",
   "execution_count": null,
   "metadata": {},
   "outputs": [],
   "source": [
    "import pandas as pd "
   ]
  },
  {
   "cell_type": "markdown",
   "metadata": {},
   "source": [
    "# concept.json\n"
   ]
  },
  {
   "cell_type": "code",
   "execution_count": null,
   "metadata": {},
   "outputs": [],
   "source": [
    "## 1. Dịch dữ liệu"
   ]
  },
  {
   "cell_type": "code",
   "execution_count": null,
   "metadata": {},
   "outputs": [],
   "source": [
    "```python\n",
    "import pandas as pd\n",
    "import os\n",
    "import json\n",
    "from googletrans import Translator\n",
    "\n",
    "# Initialize translator\n",
    "translator = Translator()\n",
    "\n",
    "# Function to translate text\n",
    "def translate_text(text):\n",
    "    try:\n",
    "        translated = translator.translate(text, dest='en')\n",
    "        return translated.text\n",
    "    except Exception as e:\n",
    "        print(f\"Error translating text: {e}\")\n",
    "        return text\n",
    "\n",
    "# Load progress if there is any\n",
    "progress_file = 'concept_progress.json'\n",
    "if os.path.exists(progress_file):\n",
    "    with open(progress_file, 'r', encoding='utf-8') as f:\n",
    "        translated_data = [json.loads(line) for line in f]\n",
    "else:\n",
    "    translated_data = []\n",
    "\n",
    "# Read the input file line by line\n",
    "input_file = 'concept_part_1.json'\n",
    "total_lines = sum(1 for line in open(input_file, 'r', encoding='utf-8'))\n",
    "processed_lines = len(translated_data)\n",
    "\n",
    "with open(input_file, 'r', encoding='utf-8') as f, open(progress_file, 'a', encoding='utf-8') as pf:\n",
    "    for i, line in enumerate(f):\n",
    "        if i < processed_lines:\n",
    "            continue  # Skip already processed lines\n",
    "        data = json.loads(line)\n",
    "        \n",
    "        # Convert to DataFrame\n",
    "        df = pd.DataFrame([data])\n",
    "    \n",
    "        \n",
    "        # Translate the remaining columns\n",
    "        for column in df.columns:\n",
    "            if df[column].dtype == object:\n",
    "                df[column] = df[column].apply(lambda x: [translate_text(item) for item in x] if isinstance(x, list) else translate_text(x))\n",
    "        \n",
    "        # Convert back to dictionary\n",
    "        translated_data.append(df.to_dict(orient='records')[0])\n",
    "        \n",
    "        # Save the translated line to progress file\n",
    "        pf.write(json.dumps(translated_data[-1], ensure_ascii=False) + '\\n')\n",
    "        \n",
    "        # Output progress\n",
    "        if (i + 1) % 10 == 0 or (i + 1) == total_lines:\n",
    "            print(f\"Processed {i + 1}/{total_lines} lines\")\n",
    "```"
   ]
  },
  {
   "cell_type": "code",
   "execution_count": null,
   "metadata": {},
   "outputs": [],
   "source": [
    "df = pd.read_json('concept_translated.json', lines=True)\n",
    "df.head()"
   ]
  },
  {
   "cell_type": "code",
   "execution_count": null,
   "metadata": {},
   "outputs": [],
   "source": [
    "## 2. Khám phá dữ liệu"
   ]
  },
  {
   "cell_type": "code",
   "execution_count": null,
   "metadata": {},
   "outputs": [],
   "source": [
    "### 2.1. Thống kê mô tả"
   ]
  },
  {
   "cell_type": "code",
   "execution_count": null,
   "metadata": {},
   "outputs": [],
   "source": [
    "# Thống kê cơ bản\n",
    "df.describe()"
   ]
  },
  {
   "cell_type": "code",
   "execution_count": null,
   "metadata": {},
   "outputs": [],
   "source": [
    "## 3. Làm sạch dữ liệu"
   ]
  },
  {
   "cell_type": "code",
   "execution_count": null,
   "metadata": {},
   "outputs": [],
   "source": [
    "### 3.1. Xử lý dữ liệu thiếu"
   ]
  },
  {
   "cell_type": "code",
   "execution_count": null,
   "metadata": {},
   "outputs": [],
   "source": [
    "print(\"Số lượng giá trị thiếu trong từng cột:\")\n",
    "print(df.isnull().sum())"
   ]
  },
  {
   "cell_type": "code",
   "execution_count": null,
   "metadata": {},
   "outputs": [],
   "source": [
    "### 3.2 Xử lý dữ liệu trùng lặp"
   ]
  },
  {
   "cell_type": "code",
   "execution_count": null,
   "metadata": {},
   "outputs": [],
   "source": [
    "print(\"Số lượng bản ghi trùng lặp:\", df.duplicated().sum())\n",
    "df = df.drop_duplicates()\n",
    "print(\"Số lượng trùng lặp sau khi xử lý:\", df.duplicated().sum())"
   ]
  },
  {
   "cell_type": "markdown",
   "metadata": {},
   "source": [
    "# course-field.json"
   ]
  },
  {
   "cell_type": "code",
   "execution_count": null,
   "metadata": {},
   "outputs": [],
   "source": [
    "# Đọc dữ liệu"
   ]
  },
  {
   "cell_type": "code",
   "execution_count": null,
   "metadata": {},
   "outputs": [],
   "source": [
    "import pandas as pd\n",
    "import json\n",
    "import re\n",
    "\n",
    "from googletrans import Translator"
   ]
  },
  {
   "cell_type": "code",
   "execution_count": null,
   "metadata": {},
   "outputs": [],
   "source": [
    "df = pd.read_json('course-field.json', lines=True)\n",
    "df.head()"
   ]
  },
  {
   "cell_type": "code",
   "execution_count": null,
   "metadata": {},
   "outputs": [],
   "source": [
    "# 1. Dịch dữ liệu"
   ]
  },
  {
   "cell_type": "code",
   "execution_count": null,
   "metadata": {},
   "outputs": [],
   "source": [
    "```python\n",
    "import pandas as pd\n",
    "from googletrans import Translator\n",
    "\n",
    "# Khởi tạo Translator\n",
    "translator = Translator()\n",
    "\n",
    "# Đọc dữ liệu từ file JSON\n",
    "df = pd.read_json('course-field.json', lines=True)\n",
    "\n",
    "# Lọc lấy các cột cần thiết\n",
    "df_to_translate = df[['course_id', 'course_name', 'field']]\n",
    "\n",
    "# Hàm để dịch từng chuỗi\n",
    "def translate_text(text, src_lang='zh-cn', dest_lang='en'):\n",
    "    try:\n",
    "        # Thực hiện dịch ngôn ngữ\n",
    "        translation = translator.translate(text, src=src_lang, dest=dest_lang)\n",
    "        return translation.text\n",
    "    except Exception as e:\n",
    "        print(f\"Lỗi dịch: {e}\")\n",
    "        return text  # Trả về chuỗi gốc nếu gặp lỗi\n",
    "```"
   ]
  },
  {
   "cell_type": "code",
   "execution_count": null,
   "metadata": {},
   "outputs": [],
   "source": [
    "```python\n",
    "# Dịch cột 'course_name'\n",
    "df_to_translate['course_name'] = df_to_translate['course_name'].apply(lambda x: translate_text(x))\n",
    "# Dịch từng mục trong cột 'field' (là một danh sách)\n",
    "df_to_translate['field'] = df_to_translate['field'].apply(lambda fields: [translate_text(field) for field in fields])\n",
    "# Ghi kết quả đã dịch ra file JSON mới với định dạng mỗi đối tượng trên một dòng\n",
    "with open('course-field-translated_2.json', 'w', encoding='utf-8') as f:\n",
    "    for _, row in df_to_translate.iterrows():\n",
    "        # Chuyển đổi từng dòng thành định dạng JSON\n",
    "        json.dump(row.to_dict(), f, ensure_ascii=False)\n",
    "        f.write('\\n')  # Xuống dòng sau mỗi đối tượng JSON\n",
    "```"
   ]
  },
  {
   "cell_type": "code",
   "execution_count": null,
   "metadata": {},
   "outputs": [],
   "source": [
    "df = pd.read_json('course-field-translated.json', lines=True)\n",
    "df.head()"
   ]
  },
  {
   "cell_type": "code",
   "execution_count": null,
   "metadata": {},
   "outputs": [],
   "source": [
    "# 2. Khám phá dữ liệu"
   ]
  },
  {
   "cell_type": "code",
   "execution_count": null,
   "metadata": {},
   "outputs": [],
   "source": [
    "## 2.1. Thống kê mô tả"
   ]
  },
  {
   "cell_type": "code",
   "execution_count": null,
   "metadata": {},
   "outputs": [],
   "source": [
    "# 1. Số lượng khóa học\n",
    "num_courses = df['course_id'].nunique()\n",
    "print(f\"Số lượng khóa học: {num_courses}\")\n",
    "\n",
    "# 2. Số lượng các lĩnh vực khác nhau\n",
    "unique_fields = set(field for fields_list in df['field'] for field in fields_list)\n",
    "num_unique_fields = len(unique_fields)\n",
    "print(f\"Số lượng các lĩnh vực khác nhau: {num_unique_fields}\")"
   ]
  },
  {
   "cell_type": "code",
   "execution_count": null,
   "metadata": {},
   "outputs": [],
   "source": [
    "# 3. Phân bố số lượng khóa học theo từng lĩnh vực\n",
    "field_distribution = df.explode('field')['field'].value_counts()\n",
    "print(\"\\nPhân bố số lượng khóa học theo từng lĩnh vực:\")\n",
    "print(field_distribution)\n",
    "\n"
   ]
  },
  {
   "cell_type": "code",
   "execution_count": null,
   "metadata": {},
   "outputs": [],
   "source": [
    "# 4. Phân bố độ dài tên khóa học (số ký tự)\n",
    "course_name_length = df['course_name'].apply(len)\n",
    "print(\"\\nThống kê độ dài tên khóa học:\")\n",
    "print(course_name_length.describe())"
   ]
  },
  {
   "cell_type": "code",
   "execution_count": null,
   "metadata": {},
   "outputs": [],
   "source": [
    "## 2.2. Trực quan hóa dữ liệu"
   ]
  },
  {
   "cell_type": "code",
   "execution_count": null,
   "metadata": {},
   "outputs": [],
   "source": [
    "import matplotlib.pyplot as plt\n",
    "import seaborn as sns"
   ]
  },
  {
   "cell_type": "code",
   "execution_count": null,
   "metadata": {},
   "outputs": [],
   "source": [
    "import matplotlib.pyplot as plt\n",
    "import seaborn as sns\n",
    "\n",
    "# Explode the 'field' column to get individual field entries and count occurrences\n",
    "field_distribution = df.explode('field')['field'].value_counts()\n",
    "\n",
    "# Get the top 10 fields and calculate the sum of \"Others\"\n",
    "top_10_fields = field_distribution.nlargest(10)\n",
    "others_count = field_distribution[10:].sum()\n",
    "\n",
    "# Prepare data for the pie chart\n",
    "labels = top_10_fields.index.tolist() + ['Others']\n",
    "sizes = top_10_fields.values.tolist() + [others_count]\n",
    "\n",
    "# Create the circle (pie) chart\n",
    "plt.figure(figsize=(8, 8))\n",
    "plt.pie(sizes, labels=labels, autopct='%1.1f%%', startangle=140, colors=sns.color_palette('viridis', len(labels)))\n",
    "plt.title('Phân bố số lượng khóa học theo từng lĩnh vực (Top 10 + Others)', fontsize=16)\n",
    "plt.show()"
   ]
  },
  {
   "cell_type": "code",
   "execution_count": null,
   "metadata": {},
   "outputs": [],
   "source": [
    "# 3. Làm sạch dữ liệu"
   ]
  },
  {
   "cell_type": "code",
   "execution_count": null,
   "metadata": {},
   "outputs": [],
   "source": [
    "## 3.1. Xử lý dữ liệu thiếu"
   ]
  },
  {
   "cell_type": "code",
   "execution_count": null,
   "metadata": {},
   "outputs": [],
   "source": []
  },
  {
   "cell_type": "code",
   "execution_count": null,
   "metadata": {},
   "outputs": [
    {
     "name": "stdout",
     "output_type": "stream",
     "text": [
      "Số lượng giá trị thiếu trong từng cột:\n",
      "course_id      0\n",
      "course_name    0\n",
      "field          0\n",
      "dtype: int64\n",
      "\n",
      "Tỷ lệ dữ liệu thiếu trong từng cột (%):\n",
      "course_id      0.0\n",
      "course_name    0.0\n",
      "field          0.0\n",
      "dtype: float64\n",
      "\n",
      "Số lượng giá trị thiếu sau khi xử lý:\n",
      "course_id      0\n",
      "course_name    0\n",
      "field          0\n",
      "dtype: int64\n"
     ]
    }
   ],
   "source": [
    "# Kiểm tra dữ liệu thiếu\n",
    "print(\"Số lượng giá trị thiếu trong từng cột:\")\n",
    "print(df.isnull().sum())\n",
    "\n",
    "# Tỷ lệ dữ liệu thiếu\n",
    "missing_ratio = df.isnull().mean() * 100\n",
    "print(\"\\nTỷ lệ dữ liệu thiếu trong từng cột (%):\")\n",
    "print(missing_ratio)\n",
    "\n",
    "# Xử lý dữ liệu thiếu\n",
    "# 1. Loại bỏ các hàng chứa giá trị thiếu\n",
    "df_dropped = df.dropna()\n",
    "\n",
    "# Kiểm tra lại số lượng giá trị thiếu sau khi xử lý\n",
    "print(\"\\nSố lượng giá trị thiếu sau khi xử lý:\")\n",
    "print(df_dropped.isnull().sum())  # Nếu dùng phương pháp loại bỏ\n",
    "# print(df.isnull().sum())  # Nếu dùng phương pháp thay thế"
   ]
  },
  {
   "cell_type": "code",
   "execution_count": null,
   "metadata": {},
   "outputs": [],
   "source": [
    "## 3.2. Xử lý dữ liệu nhiễu"
   ]
  },
  {
   "cell_type": "code",
   "execution_count": null,
   "metadata": {},
   "outputs": [],
   "source": [
    "# Hàm loại bỏ ký tự không mong muốn\n",
    "def clean_text(text):\n",
    "    # Loại bỏ ký tự đặc biệt\n",
    "    text = re.sub(r'[^\\w\\s]', '', text)  # Giữ lại chữ cái, số và khoảng trắng\n",
    "    text = text.strip()  # Loại bỏ khoảng trắng thừa ở hai đầu\n",
    "    text = text.lower()  # Chuyển về viết thường\n",
    "    return text\n",
    "\n",
    "\n",
    "# Tiến hành xử lý cho cột 'course_name'\n",
    "df['cleaned_course_name'] = df['course_name'].apply(clean_text)\n",
    "\n",
    "# Kiểm tra dữ liệu đã xử lý\n",
    "df[['course_id', 'course_name', 'cleaned_course_name']].head()\n"
   ]
  },
  {
   "cell_type": "code",
   "execution_count": null,
   "metadata": {},
   "outputs": [],
   "source": [
    "## 3.3. Xử lý dữ liệu trùng lặp"
   ]
  },
  {
   "cell_type": "code",
   "execution_count": null,
   "metadata": {},
   "outputs": [],
   "source": [
    "# Chuyển đổi cột 'field' thành chuỗi\n",
    "df['field'] = df['field'].apply(lambda x: ', '.join(x))\n",
    "\n",
    "# Kiểm tra dữ liệu trùng lặp\n",
    "duplicate_rows = df.duplicated()\n",
    "\n",
    "# Đếm số lượng bản ghi trùng lặp\n",
    "num_duplicates = duplicate_rows.sum()\n",
    "print(f\"Số lượng bản ghi trùng lặp: {num_duplicates}\")\n",
    "\n",
    "# Hiển thị các bản ghi trùng lặp\n",
    "if num_duplicates > 0:\n",
    "    print(\"Các bản ghi trùng lặp:\")\n",
    "    print(df[duplicate_rows])\n",
    "\n",
    "# Xóa bản ghi trùng lặp (nếu cần)\n",
    "df_cleaned = df.drop_duplicates()\n",
    "\n",
    "# Kiểm tra lại số lượng bản ghi sau khi xóa trùng lặp\n",
    "print(f\"Số lượng bản ghi sau khi xóa trùng lặp: {len(df_cleaned)}\")"
   ]
  }
 ],
 "metadata": {
  "kernelspec": {
   "display_name": "Python 3",
   "language": "python",
   "name": "python3"
  },
  "language_info": {
   "name": "python",
   "version": "3.12.2"
  }
 },
 "nbformat": 4,
 "nbformat_minor": 2
}
